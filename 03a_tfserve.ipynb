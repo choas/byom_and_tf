{
 "cells": [
  {
   "cell_type": "code",
   "execution_count": 1,
   "metadata": {},
   "outputs": [],
   "source": [
    "from tfserve import TFServeApp"
   ]
  },
  {
   "cell_type": "code",
   "execution_count": 2,
   "metadata": {},
   "outputs": [],
   "source": [
    "# 1. Model\n",
    "MODEL_PATH = \"./models/xor.pb\"\n",
    "\n",
    "# 2. Input tensor names:\n",
    "INPUT_TENSORS = [\"import/dense_1_input:0\"]\n",
    "\n",
    "# 3. Output tensor names:\n",
    "OUTPUT_TENSORS = [\"import/dense_2/Sigmoid:0\"]\n",
    "\n",
    "# 4. encode function: receives request data and returns dict\n",
    "def encode(request_data):\n",
    "    data = [float(i) for i in request_data.decode('ascii').split(\" \")][:2]\n",
    "    print(data)\n",
    "    return {INPUT_TENSORS[0]: data}\n",
    "\n",
    "# 5. decode function: receives result and builds json response\n",
    "def decode(outputs):\n",
    "    data = outputs[OUTPUT_TENSORS[0]].tolist()\n",
    "    print(data)\n",
    "    return {\"result\": data}"
   ]
  },
  {
   "cell_type": "code",
   "execution_count": 3,
   "metadata": {},
   "outputs": [
    {
     "name": "stdout",
     "output_type": "stream",
     "text": [
      "WARNING:tensorflow:From /Users/d064066/m3_2019/XOR/lib/python3.7/site-packages/tfserve/loader.py:39: FastGFile.__init__ (from tensorflow.python.platform.gfile) is deprecated and will be removed in a future version.\n",
      "Instructions for updating:\n",
      "Use tf.gfile.GFile.\n"
     ]
    },
    {
     "name": "stderr",
     "output_type": "stream",
     "text": [
      "127.0.0.1 - - [27/Sep/2019 17:59:00] \"\u001b[37mPOST / HTTP/1.1\u001b[0m\" 200 -\n"
     ]
    },
    {
     "name": "stdout",
     "output_type": "stream",
     "text": [
      "[1.0, 0.0]\n",
      "0.9574684500694275\n"
     ]
    }
   ],
   "source": [
    "app = TFServeApp(MODEL_PATH, INPUT_TENSORS, OUTPUT_TENSORS, encode, decode)\n",
    "app.run('127.0.0.1', 5005)  # Host and port where the server will be running"
   ]
  },
  {
   "cell_type": "code",
   "execution_count": null,
   "metadata": {},
   "outputs": [],
   "source": []
  }
 ],
 "metadata": {
  "kernelspec": {
   "display_name": "Python 3",
   "language": "python",
   "name": "python3"
  },
  "language_info": {
   "codemirror_mode": {
    "name": "ipython",
    "version": 3
   },
   "file_extension": ".py",
   "mimetype": "text/x-python",
   "name": "python",
   "nbconvert_exporter": "python",
   "pygments_lexer": "ipython3",
   "version": "3.7.3"
  }
 },
 "nbformat": 4,
 "nbformat_minor": 2
}
