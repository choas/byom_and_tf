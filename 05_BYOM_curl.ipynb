{
 "cells": [
  {
   "cell_type": "code",
   "execution_count": 1,
   "metadata": {},
   "outputs": [
    {
     "name": "stdout",
     "output_type": "stream",
     "text": [
      "BYOM (xor version 3)"
     ]
    }
   ],
   "source": [
    "!curl -X GET https://xor.cfapps.eu10.hana.ondemand.com"
   ]
  },
  {
   "cell_type": "code",
   "execution_count": 2,
   "metadata": {},
   "outputs": [],
   "source": [
    "import requests\n",
    "import json\n",
    "import os\n",
    "\n",
    "url = \"https://antwerp.authentication.eu10.hana.ondemand.com/oauth/token\"\n",
    "\n",
    "payload = \"grant_type=client_credentials&client_id=\" + os.environ[\"CLIENT_ID\"] + \"&client_secret=\" + os.environ[\"CLIENT_SECRET\"]\n",
    "headers = {\n",
    "    'Content-Type': \"application/x-www-form-urlencoded\",\n",
    "    'Cache-Control': \"no-cache\"\n",
    "}\n",
    "\n",
    "response = requests.request(\"POST\", url, data=payload, headers=headers)\n",
    "responseJson = json.loads(response.text)\n",
    "TOKEN = responseJson[\"access_token\"]"
   ]
  },
  {
   "cell_type": "code",
   "execution_count": 3,
   "metadata": {},
   "outputs": [
    {
     "name": "stdout",
     "output_type": "stream",
     "text": [
      "0.915923893452"
     ]
    }
   ],
   "source": [
    "!curl -X POST \\\n",
    "https://xor.cfapps.eu10.hana.ondemand.com \\\n",
    "-d '1,0' \\\n",
    "-H \"Authorization: Bearer $TOKEN\""
   ]
  },
  {
   "cell_type": "code",
   "execution_count": null,
   "metadata": {},
   "outputs": [],
   "source": []
  }
 ],
 "metadata": {
  "kernelspec": {
   "display_name": "Python 3",
   "language": "python",
   "name": "python3"
  },
  "language_info": {
   "codemirror_mode": {
    "name": "ipython",
    "version": 3
   },
   "file_extension": ".py",
   "mimetype": "text/x-python",
   "name": "python",
   "nbconvert_exporter": "python",
   "pygments_lexer": "ipython3",
   "version": "3.7.3"
  }
 },
 "nbformat": 4,
 "nbformat_minor": 2
}
