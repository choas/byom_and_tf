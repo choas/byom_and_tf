{
 "cells": [
  {
   "cell_type": "code",
   "execution_count": 1,
   "metadata": {},
   "outputs": [
    {
     "name": "stderr",
     "output_type": "stream",
     "text": [
      "Using TensorFlow backend.\n"
     ]
    }
   ],
   "source": [
    "import sys\n",
    "import numpy as np\n",
    "import tensorflow as tf\n",
    "import keras.backend as K\n",
    "from keras.models import Sequential\n",
    "from keras.layers import Dense\n",
    "from keras.activations import sigmoid\n",
    "from keras.activations import relu\n",
    "from keras.activations import tanh\n",
    "from keras.losses import MSE\n",
    "from keras.losses import mean_squared_error\n",
    "from keras.optimizers import SGD, RMSprop, Adagrad, Adadelta, Adam, Adamax, Nadam\n",
    "from keras.metrics import binary_accuracy\n",
    "from tensorflow.compat.v1.graph_util import convert_variables_to_constants\n",
    "import os"
   ]
  },
  {
   "cell_type": "code",
   "execution_count": 2,
   "metadata": {},
   "outputs": [],
   "source": [
    "sess=tf.Session()\n",
    "K.set_session(sess)"
   ]
  },
  {
   "cell_type": "code",
   "execution_count": 3,
   "metadata": {},
   "outputs": [],
   "source": [
    "training_data = np.array([[0,0], [0,1], [1,0], [1,1]])\n",
    "target_data   = np.array([  [0],   [1],   [1],   [0]])"
   ]
  },
  {
   "cell_type": "code",
   "execution_count": 4,
   "metadata": {},
   "outputs": [
    {
     "name": "stdout",
     "output_type": "stream",
     "text": [
      "WARNING:tensorflow:From /Users/d064066/m3_2019/XOR/lib/python3.7/site-packages/tensorflow/python/framework/op_def_library.py:263: colocate_with (from tensorflow.python.framework.ops) is deprecated and will be removed in a future version.\n",
      "Instructions for updating:\n",
      "Colocations handled automatically by placer.\n"
     ]
    }
   ],
   "source": [
    "model = Sequential()\n",
    "model.add(Dense(4, input_dim=2, activation='sigmoid'))\n",
    "#model.add(Dense(8, activation='relu'))\n",
    "model.add(Dense(1, activation='sigmoid'))\n",
    "model.compile(loss='mean_squared_error', optimizer=SGD(lr=1), metrics=['accuracy'])\n",
    "#model.compile(loss='binary_crossentropy', optimizer=Adam(lr=0.1), metrics=['accuracy'])"
   ]
  },
  {
   "cell_type": "code",
   "execution_count": 5,
   "metadata": {},
   "outputs": [
    {
     "name": "stdout",
     "output_type": "stream",
     "text": [
      "WARNING:tensorflow:From /Users/d064066/m3_2019/XOR/lib/python3.7/site-packages/tensorflow/python/ops/math_ops.py:3066: to_int32 (from tensorflow.python.ops.math_ops) is deprecated and will be removed in a future version.\n",
      "Instructions for updating:\n",
      "Use tf.cast instead.\n"
     ]
    },
    {
     "data": {
      "text/plain": [
       "<keras.callbacks.History at 0x131db4240>"
      ]
     },
     "execution_count": 5,
     "metadata": {},
     "output_type": "execute_result"
    }
   ],
   "source": [
    "epochs = 2000\n",
    "model.fit(training_data, target_data, verbose=0, epochs=epochs)"
   ]
  },
  {
   "cell_type": "code",
   "execution_count": 6,
   "metadata": {
    "scrolled": false
   },
   "outputs": [
    {
     "name": "stdout",
     "output_type": "stream",
     "text": [
      "loss: [0.00184284383431077, 1.0]\n",
      "\n",
      "[[0.02486864]\n",
      " [0.9554728 ]\n",
      " [0.95746845]\n",
      " [0.05441805]]\n"
     ]
    }
   ],
   "source": [
    "print (\"loss:\", model.evaluate(x=training_data, y=target_data, verbose=0))\n",
    "print (\"\")\n",
    "print (model.predict(training_data))"
   ]
  },
  {
   "cell_type": "code",
   "execution_count": 7,
   "metadata": {},
   "outputs": [
    {
     "name": "stdout",
     "output_type": "stream",
     "text": [
      "[0.95746845] <<<<<\n"
     ]
    }
   ],
   "source": [
    "print (model.predict(training_data)[2], \"<<<<<\")"
   ]
  },
  {
   "cell_type": "markdown",
   "metadata": {},
   "source": [
    "## Save\n",
    "### freeze model and save as Tensorflow "
   ]
  },
  {
   "cell_type": "code",
   "execution_count": 8,
   "metadata": {},
   "outputs": [
    {
     "name": "stdout",
     "output_type": "stream",
     "text": [
      "WARNING:tensorflow:From <ipython-input-8-ede93e6f17bc>:9: convert_variables_to_constants (from tensorflow.python.framework.graph_util_impl) is deprecated and will be removed in a future version.\n",
      "Instructions for updating:\n",
      "Use tf.compat.v1.graph_util.convert_variables_to_constants\n",
      "WARNING:tensorflow:From /Users/d064066/m3_2019/XOR/lib/python3.7/site-packages/tensorflow/python/framework/graph_util_impl.py:245: extract_sub_graph (from tensorflow.python.framework.graph_util_impl) is deprecated and will be removed in a future version.\n",
      "Instructions for updating:\n",
      "Use tf.compat.v1.graph_util.extract_sub_graph\n",
      "INFO:tensorflow:Froze 4 variables.\n",
      "INFO:tensorflow:Converted 4 variables to const ops.\n",
      "\n",
      "models/xor.pb written\n",
      "dense_1_input:0\n",
      "dense_2/Sigmoid:0\n"
     ]
    }
   ],
   "source": [
    "### freeze model and save as Tensorflow \n",
    "\n",
    "freeze_var_names = list(set(v.op.name for v in tf.global_variables()))\n",
    "output_names = [model.outputs[0].name.split(\":\")[0]]\n",
    "\n",
    "frozen_graph = convert_variables_to_constants(sess,\n",
    "                                              sess.graph.as_graph_def(),\n",
    "                                              output_names,\n",
    "                                              freeze_var_names)\n",
    "\n",
    "graph_path = tf.train.write_graph(frozen_graph, \"models\", \"xor.pb\", as_text=False)\n",
    "print (\"\")\n",
    "print (\"%s written\" % graph_path)\n",
    "print (model.inputs[0].name)\n",
    "print (model.outputs[-1].name)"
   ]
  },
  {
   "cell_type": "markdown",
   "metadata": {},
   "source": [
    "### save as a keras h5 model"
   ]
  },
  {
   "cell_type": "code",
   "execution_count": 9,
   "metadata": {},
   "outputs": [
    {
     "name": "stdout",
     "output_type": "stream",
     "text": [
      "models/xor.h5 written\n"
     ]
    }
   ],
   "source": [
    "h5_file = \"models/xor.h5\"\n",
    "model.save(h5_file)\n",
    "print (\"%s written\" % h5_file)"
   ]
  }
 ],
 "metadata": {
  "kernelspec": {
   "display_name": "Python 2",
   "language": "python",
   "name": "python2"
  },
  "language_info": {
   "codemirror_mode": {
    "name": "ipython",
    "version": 3
   },
   "file_extension": ".py",
   "mimetype": "text/x-python",
   "name": "python",
   "nbconvert_exporter": "python",
   "pygments_lexer": "ipython3",
   "version": "3.7.3"
  }
 },
 "nbformat": 4,
 "nbformat_minor": 2
}
