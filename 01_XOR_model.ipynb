{
 "cells": [
  {
   "cell_type": "code",
   "execution_count": null,
   "metadata": {},
   "outputs": [],
   "source": [
    "import sys\n",
    "import numpy as np\n",
    "import tensorflow as tf\n",
    "import keras.backend as K\n",
    "from keras.models import Sequential\n",
    "from keras.layers import Dense\n",
    "from keras.activations import sigmoid\n",
    "from keras.activations import relu\n",
    "from keras.activations import tanh\n",
    "from keras.losses import MSE\n",
    "from keras.losses import mean_squared_error\n",
    "from keras.optimizers import SGD, RMSprop, Adagrad, Adadelta, Adam, Adamax, Nadam\n",
    "from keras.metrics import binary_accuracy\n",
    "from tensorflow.compat.v1.graph_util import convert_variables_to_constants\n",
    "import os"
   ]
  },
  {
   "cell_type": "code",
   "execution_count": null,
   "metadata": {},
   "outputs": [],
   "source": [
    "sess=tf.Session()\n",
    "K.set_session(sess)"
   ]
  },
  {
   "cell_type": "code",
   "execution_count": null,
   "metadata": {},
   "outputs": [],
   "source": [
    "training_data = np.array([[0,0], [0,1], [1,0], [1,1]])\n",
    "target_data   = np.array([  [0],   [1],   [1],   [0]])"
   ]
  },
  {
   "cell_type": "code",
   "execution_count": null,
   "metadata": {},
   "outputs": [],
   "source": [
    "model = Sequential()\n",
    "model.add(Dense(4, input_dim=2, activation='sigmoid'))\n",
    "# model.add(Dense(8, activation='relu'))\n",
    "model.add(Dense(1, activation='sigmoid'))\n",
    "model.compile(loss='mean_squared_error', optimizer=SGD(lr=1), metrics=['accuracy'])\n",
    "# model.compile(loss='binary_crossentropy', optimizer=Adam(lr=0.1), metrics=['accuracy'])"
   ]
  },
  {
   "cell_type": "code",
   "execution_count": null,
   "metadata": {},
   "outputs": [],
   "source": [
    "epochs = 1000\n",
    "model.fit(training_data, target_data, verbose=0, epochs=epochs)"
   ]
  },
  {
   "cell_type": "code",
   "execution_count": null,
   "metadata": {
    "scrolled": false
   },
   "outputs": [],
   "source": [
    "print (\"loss:\", model.evaluate(x=training_data, y=target_data, verbose=0))\n",
    "print (\"\")\n",
    "print (model.predict(training_data))\n",
    "print (\"\")\n",
    "print (model.predict(training_data).round())\n",
    "print (\"\")\n",
    "print (\"w0:\", model.layers[0].get_weights()[0])\n",
    "print (\"b0:\", model.layers[0].get_weights()[1])\n",
    "print (\"w1:\", model.layers[1].get_weights()[0])\n",
    "print (\"b1:\", model.layers[1].get_weights()[1])\n",
    "\n"
   ]
  },
  {
   "cell_type": "code",
   "execution_count": null,
   "metadata": {},
   "outputs": [],
   "source": [
    "print (model.predict(x=np.array([[1,0]]))[0][0])"
   ]
  },
  {
   "cell_type": "markdown",
   "metadata": {},
   "source": [
    "## Save\n",
    "### freeze model and save as Tensorflow "
   ]
  },
  {
   "cell_type": "code",
   "execution_count": null,
   "metadata": {},
   "outputs": [],
   "source": [
    "### freeze model and save as Tensorflow \n",
    "\n",
    "freeze_var_names = list(set(v.op.name for v in tf.global_variables()))\n",
    "output_names = [model.outputs[0].name.split(\":\")[0]]\n",
    "\n",
    "frozen_graph = convert_variables_to_constants(sess,\n",
    "                                              sess.graph.as_graph_def(),\n",
    "                                              output_names,\n",
    "                                              freeze_var_names)\n",
    "\n",
    "graph_path = tf.train.write_graph(frozen_graph, \"models\", \"xor.pb\", as_text=False)\n",
    "print('%s written' % graph_path)\n",
    "print (model.inputs[0].name)\n",
    "print (model.outputs[-1].name)"
   ]
  },
  {
   "cell_type": "markdown",
   "metadata": {},
   "source": [
    "### save as a keras h5 model"
   ]
  },
  {
   "cell_type": "code",
   "execution_count": null,
   "metadata": {},
   "outputs": [],
   "source": [
    "h5_file = \"models/xor.h5\"\n",
    "model.save(h5_file)\n",
    "print('%s written' % h5_file)"
   ]
  },
  {
   "cell_type": "code",
   "execution_count": null,
   "metadata": {},
   "outputs": [],
   "source": []
  }
 ],
 "metadata": {
  "kernelspec": {
   "display_name": "Python 2",
   "language": "python",
   "name": "python2"
  },
  "language_info": {
   "codemirror_mode": {
    "name": "ipython",
    "version": 3
   },
   "file_extension": ".py",
   "mimetype": "text/x-python",
   "name": "python",
   "nbconvert_exporter": "python",
   "pygments_lexer": "ipython3",
   "version": "3.7.3"
  }
 },
 "nbformat": 4,
 "nbformat_minor": 2
}
