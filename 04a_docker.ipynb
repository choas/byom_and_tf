{
 "cells": [
  {
   "cell_type": "code",
   "execution_count": 1,
   "metadata": {},
   "outputs": [],
   "source": [
    "### see also https://www.tensorflow.org/tfx/serving/docker\n",
    "#!docker pull tensorflow/serving"
   ]
  },
  {
   "cell_type": "markdown",
   "metadata": {},
   "source": [
    "## convert .h5 to pb and variables"
   ]
  },
  {
   "cell_type": "code",
   "execution_count": 2,
   "metadata": {},
   "outputs": [
    {
     "name": "stdout",
     "output_type": "stream",
     "text": [
      "WARNING:tensorflow:From /Users/d064066/m3_2019/XOR/lib/python3.7/site-packages/tensorflow/python/ops/resource_variable_ops.py:435: colocate_with (from tensorflow.python.framework.ops) is deprecated and will be removed in a future version.\n",
      "Instructions for updating:\n",
      "Colocations handled automatically by placer.\n",
      "WARNING:tensorflow:From /Users/d064066/m3_2019/XOR/lib/python3.7/site-packages/tensorflow/python/keras/utils/losses_utils.py:170: to_float (from tensorflow.python.ops.math_ops) is deprecated and will be removed in a future version.\n",
      "Instructions for updating:\n",
      "Use tf.cast instead.\n",
      "WARNING:tensorflow:From /Users/d064066/m3_2019/XOR/lib/python3.7/site-packages/tensorflow/python/ops/math_ops.py:3066: to_int32 (from tensorflow.python.ops.math_ops) is deprecated and will be removed in a future version.\n",
      "Instructions for updating:\n",
      "Use tf.cast instead.\n",
      "WARNING:tensorflow:From <ipython-input-2-0bbefe96f98d>:20: simple_save (from tensorflow.python.saved_model.simple_save) is deprecated and will be removed in a future version.\n",
      "Instructions for updating:\n",
      "This function will only be available through the v1 compatibility library as tf.compat.v1.saved_model.simple_save.\n",
      "WARNING:tensorflow:From /Users/d064066/m3_2019/XOR/lib/python3.7/site-packages/tensorflow/python/saved_model/signature_def_utils_impl.py:205: build_tensor_info (from tensorflow.python.saved_model.utils_impl) is deprecated and will be removed in a future version.\n",
      "Instructions for updating:\n",
      "This function will only be available through the v1 compatibility library as tf.compat.v1.saved_model.utils.build_tensor_info or tf.compat.v1.saved_model.build_tensor_info.\n",
      "INFO:tensorflow:Assets added to graph.\n",
      "INFO:tensorflow:No assets to write.\n",
      "INFO:tensorflow:SavedModel written to: ./models/1/saved_model.pb\n"
     ]
    }
   ],
   "source": [
    "### see also https://towardsdatascience.com/deploying-keras-models-using-tensorflow-serving-and-flask-508ba00f1037\n",
    "\n",
    "import tensorflow as tf\n",
    "import os\n",
    "\n",
    "tf.keras.backend.set_learning_phase(0) \n",
    "model = tf.keras.models.load_model('./models/xor.h5')\n",
    "export_path = './models/1'\n",
    "\n",
    "os.system(\"rm -rf \" + export_path)\n",
    "\n",
    "# Fetch the Keras session and save the model\n",
    "# The signature definition is defined by the input and output tensors\n",
    "# And stored with the default serving key\n",
    "with tf.keras.backend.get_session() as sess:\n",
    "    tf.saved_model.simple_save(\n",
    "        sess,\n",
    "        export_path,\n",
    "        inputs={'input_image': model.input},\n",
    "        outputs={t.name: t for t in model.outputs})"
   ]
  },
  {
   "cell_type": "markdown",
   "metadata": {},
   "source": [
    "## run docker"
   ]
  },
  {
   "cell_type": "code",
   "execution_count": 3,
   "metadata": {},
   "outputs": [
    {
     "name": "stdout",
     "output_type": "stream",
     "text": [
      "2019-09-27 15:59:27.391609: I tensorflow_serving/model_servers/server.cc:82] Building single TensorFlow model file config:  model_name: xor model_base_path: /models/xor\n",
      "2019-09-27 15:59:27.393082: I tensorflow_serving/model_servers/server_core.cc:461] Adding/updating models.\n",
      "2019-09-27 15:59:27.393226: I tensorflow_serving/model_servers/server_core.cc:558]  (Re-)adding model: xor\n",
      "2019-09-27 15:59:27.510660: I tensorflow_serving/core/basic_manager.cc:739] Successfully reserved resources to load servable {name: xor version: 1}\n",
      "2019-09-27 15:59:27.510730: I tensorflow_serving/core/loader_harness.cc:66] Approving load for servable version {name: xor version: 1}\n",
      "2019-09-27 15:59:27.510778: I tensorflow_serving/core/loader_harness.cc:74] Loading servable version {name: xor version: 1}\n",
      "2019-09-27 15:59:27.511438: I external/org_tensorflow/tensorflow/contrib/session_bundle/bundle_shim.cc:363] Attempting to load native SavedModelBundle in bundle-shim from: /models/xor/1\n",
      "2019-09-27 15:59:27.511509: I external/org_tensorflow/tensorflow/cc/saved_model/reader.cc:31] Reading SavedModel from: /models/xor/1\n",
      "2019-09-27 15:59:27.517437: I external/org_tensorflow/tensorflow/cc/saved_model/reader.cc:54] Reading meta graph with tags { serve }\n",
      "2019-09-27 15:59:27.519875: I external/org_tensorflow/tensorflow/core/platform/cpu_feature_guard.cc:141] Your CPU supports instructions that this TensorFlow binary was not compiled to use: AVX2 FMA\n",
      "2019-09-27 15:59:27.538925: I external/org_tensorflow/tensorflow/cc/saved_model/loader.cc:182] Restoring SavedModel bundle.\n",
      "2019-09-27 15:59:27.575016: I external/org_tensorflow/tensorflow/cc/saved_model/loader.cc:285] SavedModel load for tags { serve }; Status: success. Took 63472 microseconds.\n",
      "2019-09-27 15:59:27.575398: I tensorflow_serving/servables/tensorflow/saved_model_warmup.cc:101] No warmup data file found at /models/xor/1/assets.extra/tf_serving_warmup_requests\n",
      "2019-09-27 15:59:27.583833: I tensorflow_serving/core/loader_harness.cc:86] Successfully loaded servable version {name: xor version: 1}\n",
      "2019-09-27 15:59:27.587338: I tensorflow_serving/model_servers/server.cc:313] Running gRPC ModelServer at 0.0.0.0:8500 ...\n",
      "[warn] getaddrinfo: address family for nodename not supported\n",
      "[evhttp_server.cc : 237] RAW: Entering the event loop ...\n",
      "2019-09-27 15:59:27.591458: I tensorflow_serving/model_servers/server.cc:333] Exporting HTTP/REST API at:localhost:8501 ...\n",
      "^C\n"
     ]
    }
   ],
   "source": [
    "!docker run --name serving \\\n",
    "    -t --rm -p 8501:8501 -p 8500:8500 \\\n",
    "    -v \"$PWD/models:/models/xor\" \\\n",
    "    -e MODEL_NAME=xor \\\n",
    "    tensorflow/serving"
   ]
  },
  {
   "cell_type": "code",
   "execution_count": 4,
   "metadata": {},
   "outputs": [
    {
     "name": "stdout",
     "output_type": "stream",
     "text": [
      "2016511e965d\r\n"
     ]
    }
   ],
   "source": [
    "!docker stop $(docker ps -a -q --filter name=serving)"
   ]
  },
  {
   "cell_type": "code",
   "execution_count": null,
   "metadata": {},
   "outputs": [],
   "source": []
  }
 ],
 "metadata": {
  "kernelspec": {
   "display_name": "Python 3",
   "language": "python",
   "name": "python3"
  },
  "language_info": {
   "codemirror_mode": {
    "name": "ipython",
    "version": 3
   },
   "file_extension": ".py",
   "mimetype": "text/x-python",
   "name": "python",
   "nbconvert_exporter": "python",
   "pygments_lexer": "ipython3",
   "version": "3.7.3"
  }
 },
 "nbformat": 4,
 "nbformat_minor": 2
}
