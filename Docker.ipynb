{
 "cells": [
  {
   "cell_type": "code",
   "execution_count": 1,
   "metadata": {},
   "outputs": [
    {
     "name": "stdout",
     "output_type": "stream",
     "text": [
      "Using default tag: latest\n",
      "latest: Pulling from tensorflow/serving\n",
      "Digest: sha256:df3c6fe1fbe5ccc3a916984ff313cc2d17e617f7b8782fc31e762c491325d813\n",
      "Status: Image is up to date for tensorflow/serving:latest\n"
     ]
    }
   ],
   "source": [
    "### see also https://www.tensorflow.org/tfx/serving/docker\n",
    "!docker pull tensorflow/serving"
   ]
  },
  {
   "cell_type": "code",
   "execution_count": null,
   "metadata": {},
   "outputs": [],
   "source": [
    "### see also https://towardsdatascience.com/deploying-keras-models-using-tensorflow-serving-and-flask-508ba00f1037\n",
    "\n",
    "import tensorflow as tf\n",
    "import os\n",
    "\n",
    "tf.keras.backend.set_learning_phase(0) \n",
    "model = tf.keras.models.load_model('./models/xor.h5')\n",
    "export_path = './models/1'\n",
    "\n",
    "\n",
    "os.system(\"rm -rf \" + export_path)\n",
    "\n",
    "# Fetch the Keras session and save the model\n",
    "# The signature definition is defined by the input and output tensors\n",
    "# And stored with the default serving key\n",
    "with tf.keras.backend.get_session() as sess:\n",
    "    tf.saved_model.simple_save(\n",
    "        sess,\n",
    "        export_path,\n",
    "        inputs={'input_image': model.input},\n",
    "        outputs={t.name: t for t in model.outputs})"
   ]
  },
  {
   "cell_type": "code",
   "execution_count": 23,
   "metadata": {},
   "outputs": [
    {
     "name": "stdout",
     "output_type": "stream",
     "text": [
      "2019-05-14 11:22:54.086804: I tensorflow_serving/model_servers/server.cc:82] Building single TensorFlow model file config:  model_name: xor model_base_path: /models/xor\n",
      "2019-05-14 11:22:54.087789: I tensorflow_serving/model_servers/server_core.cc:461] Adding/updating models.\n",
      "2019-05-14 11:22:54.087914: I tensorflow_serving/model_servers/server_core.cc:558]  (Re-)adding model: xor\n",
      "2019-05-14 11:22:54.199883: I tensorflow_serving/core/basic_manager.cc:739] Successfully reserved resources to load servable {name: xor version: 1}\n",
      "2019-05-14 11:22:54.199969: I tensorflow_serving/core/loader_harness.cc:66] Approving load for servable version {name: xor version: 1}\n",
      "2019-05-14 11:22:54.200016: I tensorflow_serving/core/loader_harness.cc:74] Loading servable version {name: xor version: 1}\n",
      "2019-05-14 11:22:54.200611: I external/org_tensorflow/tensorflow/contrib/session_bundle/bundle_shim.cc:363] Attempting to load native SavedModelBundle in bundle-shim from: /models/xor/1\n",
      "2019-05-14 11:22:54.200836: I external/org_tensorflow/tensorflow/cc/saved_model/reader.cc:31] Reading SavedModel from: /models/xor/1\n",
      "2019-05-14 11:22:54.207796: I external/org_tensorflow/tensorflow/cc/saved_model/reader.cc:54] Reading meta graph with tags { serve }\n",
      "2019-05-14 11:22:54.211743: I external/org_tensorflow/tensorflow/core/platform/cpu_feature_guard.cc:141] Your CPU supports instructions that this TensorFlow binary was not compiled to use: AVX2 FMA\n",
      "2019-05-14 11:22:54.236530: I external/org_tensorflow/tensorflow/cc/saved_model/loader.cc:182] Restoring SavedModel bundle.\n",
      "2019-05-14 11:22:54.269585: I external/org_tensorflow/tensorflow/cc/saved_model/loader.cc:285] SavedModel load for tags { serve }; Status: success. Took 68718 microseconds.\n",
      "2019-05-14 11:22:54.270474: I tensorflow_serving/servables/tensorflow/saved_model_warmup.cc:101] No warmup data file found at /models/xor/1/assets.extra/tf_serving_warmup_requests\n",
      "2019-05-14 11:22:54.298592: I tensorflow_serving/core/loader_harness.cc:86] Successfully loaded servable version {name: xor version: 1}\n",
      "2019-05-14 11:22:54.302631: I tensorflow_serving/model_servers/server.cc:313] Running gRPC ModelServer at 0.0.0.0:8500 ...\n",
      "[warn] getaddrinfo: address family for nodename not supported\n",
      "2019-05-14 11:22:54.305511: I tensorflow_serving/model_servers/server.cc:333] Exporting HTTP/REST API at:localhost:8501 ...\n",
      "[evhttp_server.cc : 237] RAW: Entering the event loop ...\n",
      "^C\n"
     ]
    }
   ],
   "source": [
    "!docker run --name serving -t --rm -p 8501:8501 \\\n",
    "    -v \"$PWD/models:/models/xor\" \\\n",
    "    -e MODEL_NAME=xor \\\n",
    "    tensorflow/serving"
   ]
  },
  {
   "cell_type": "code",
   "execution_count": 22,
   "metadata": {},
   "outputs": [
    {
     "name": "stdout",
     "output_type": "stream",
     "text": [
      "9b5b995e801e\r\n"
     ]
    }
   ],
   "source": [
    "!docker stop $(docker ps -a -q --filter name=serving)\n",
    "#!docker rm $(docker stop $(docker ps -a -q --filter name=serving))"
   ]
  },
  {
   "cell_type": "code",
   "execution_count": null,
   "metadata": {},
   "outputs": [],
   "source": []
  }
 ],
 "metadata": {
  "kernelspec": {
   "display_name": "Python 3",
   "language": "python",
   "name": "python3"
  },
  "language_info": {
   "codemirror_mode": {
    "name": "ipython",
    "version": 3
   },
   "file_extension": ".py",
   "mimetype": "text/x-python",
   "name": "python",
   "nbconvert_exporter": "python",
   "pygments_lexer": "ipython3",
   "version": "3.7.3"
  }
 },
 "nbformat": 4,
 "nbformat_minor": 2
}
