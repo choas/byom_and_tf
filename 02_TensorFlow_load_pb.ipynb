{
 "cells": [
  {
   "cell_type": "code",
   "execution_count": 1,
   "metadata": {},
   "outputs": [],
   "source": [
    "import tensorflow as tf\n",
    "from tensorflow.python.platform import gfile"
   ]
  },
  {
   "cell_type": "code",
   "execution_count": 2,
   "metadata": {},
   "outputs": [],
   "source": [
    "with gfile.GFile(\"./models/xor.pb\",'rb') as f:\n",
    "    graph_def = tf.GraphDef()\n",
    "    graph_def.ParseFromString(f.read())\n",
    "    f.close()\n",
    "    tf.import_graph_def(graph_def, name='import')"
   ]
  },
  {
   "cell_type": "code",
   "execution_count": 3,
   "metadata": {},
   "outputs": [
    {
     "name": "stdout",
     "output_type": "stream",
     "text": [
      "[[0.06892243]\n",
      " [0.9078026 ]\n",
      " [0.9123002 ]\n",
      " [0.10453721]]\n"
     ]
    }
   ],
   "source": [
    "with tf.Session() as sess:\n",
    "    input_x = sess.graph.get_tensor_by_name(\"import/dense_1_input:0\")\n",
    "    output = sess.graph.get_tensor_by_name(\"import/dense_2/Sigmoid:0\")\n",
    "\n",
    "    XOR_X = [[0,0], [0,1], [1,0], [1,1]]\n",
    "\n",
    "    predictions = sess.run(output, {input_x: XOR_X})\n",
    "    print(predictions)"
   ]
  },
  {
   "cell_type": "code",
   "execution_count": null,
   "metadata": {},
   "outputs": [],
   "source": []
  }
 ],
 "metadata": {
  "kernelspec": {
   "display_name": "Python 3",
   "language": "python",
   "name": "python3"
  },
  "language_info": {
   "codemirror_mode": {
    "name": "ipython",
    "version": 3
   },
   "file_extension": ".py",
   "mimetype": "text/x-python",
   "name": "python",
   "nbconvert_exporter": "python",
   "pygments_lexer": "ipython3",
   "version": "3.7.3"
  }
 },
 "nbformat": 4,
 "nbformat_minor": 2
}
