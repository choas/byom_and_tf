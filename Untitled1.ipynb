{
 "cells": [
  {
   "cell_type": "code",
   "execution_count": 2,
   "metadata": {},
   "outputs": [
    {
     "name": "stdout",
     "output_type": "stream",
     "text": [
      "[ 1  2  3  4  5  6  7  8  9 10]\n",
      "Done\n"
     ]
    }
   ],
   "source": [
    "# taken from https://github.com/tensorflow/tensorflow/issues/616\n",
    "\n",
    "import tensorflow as tf\n",
    "import os\n",
    "import numpy as np\n",
    "from tensorflow.python.platform import gfile\n",
    "\n",
    "input1= tf.placeholder(tf.int32, [10], name=\"input\")\n",
    "data = np.arange(10)\n",
    "output1= tf.add(input1, tf.constant(1), name=\"output\")\n",
    "\n",
    "with tf.Session() as sess:\n",
    "    os.system(\"rm -rf /tmp/load\")\n",
    "    tf.train.write_graph(sess.graph_def, \"/tmp/load\", \"test.pb\", False)\n",
    "    print (sess.run(output1,{input1:data}))\n",
    "    print (\"Done\")"
   ]
  },
  {
   "cell_type": "code",
   "execution_count": 10,
   "metadata": {},
   "outputs": [
    {
     "name": "stdout",
     "output_type": "stream",
     "text": [
      "# build graph and run\n",
      "WARNING:tensorflow:From /Users/d064066/m3_2019/XOR/lib/python3.7/site-packages/tensorflow/python/framework/op_def_library.py:263: colocate_with (from tensorflow.python.framework.ops) is deprecated and will be removed in a future version.\n",
      "Instructions for updating:\n",
      "Colocations handled automatically by placer.\n",
      "WARNING:tensorflow:From /Users/d064066/m3_2019/XOR/lib/python3.7/site-packages/tensorflow/python/util/tf_should_use.py:193: initialize_all_variables (from tensorflow.python.ops.variables) is deprecated and will be removed after 2017-03-02.\n",
      "Instructions for updating:\n",
      "Use `tf.global_variables_initializer` instead.\n",
      "ERROR:tensorflow:==================================\n",
      "Object was never used (type <class 'tensorflow.python.framework.ops.Operation'>):\n",
      "<tf.Operation 'init' type=NoOp>\n",
      "If you want to mark it as used call its \"mark_used()\" method.\n",
      "It was originally created here:\n",
      "  File \"/usr/local/Cellar/python/3.7.3/Frameworks/Python.framework/Versions/3.7/lib/python3.7/runpy.py\", line 193, in _run_module_as_main\n",
      "    \"__main__\", mod_spec)  File \"/usr/local/Cellar/python/3.7.3/Frameworks/Python.framework/Versions/3.7/lib/python3.7/runpy.py\", line 85, in _run_code\n",
      "    exec(code, run_globals)  File \"/Users/d064066/m3_2019/XOR/lib/python3.7/site-packages/ipykernel_launcher.py\", line 16, in <module>\n",
      "    app.launch_new_instance()  File \"/Users/d064066/m3_2019/XOR/lib/python3.7/site-packages/traitlets/config/application.py\", line 658, in launch_instance\n",
      "    app.start()  File \"/Users/d064066/m3_2019/XOR/lib/python3.7/site-packages/ipykernel/kernelapp.py\", line 505, in start\n",
      "    self.io_loop.start()  File \"/Users/d064066/m3_2019/XOR/lib/python3.7/site-packages/tornado/platform/asyncio.py\", line 148, in start\n",
      "    self.asyncio_loop.run_forever()  File \"/usr/local/Cellar/python/3.7.3/Frameworks/Python.framework/Versions/3.7/lib/python3.7/asyncio/base_events.py\", line 539, in run_forever\n",
      "    self._run_once()  File \"/usr/local/Cellar/python/3.7.3/Frameworks/Python.framework/Versions/3.7/lib/python3.7/asyncio/base_events.py\", line 1775, in _run_once\n",
      "    handle._run()  File \"/usr/local/Cellar/python/3.7.3/Frameworks/Python.framework/Versions/3.7/lib/python3.7/asyncio/events.py\", line 88, in _run\n",
      "    self._context.run(self._callback, *self._args)  File \"/Users/d064066/m3_2019/XOR/lib/python3.7/site-packages/tornado/ioloop.py\", line 690, in <lambda>\n",
      "    lambda f: self._run_callback(functools.partial(callback, future))  File \"/Users/d064066/m3_2019/XOR/lib/python3.7/site-packages/tornado/ioloop.py\", line 743, in _run_callback\n",
      "    ret = callback()  File \"/Users/d064066/m3_2019/XOR/lib/python3.7/site-packages/tornado/gen.py\", line 781, in inner\n",
      "    self.run()  File \"/Users/d064066/m3_2019/XOR/lib/python3.7/site-packages/tornado/gen.py\", line 742, in run\n",
      "    yielded = self.gen.send(value)  File \"/Users/d064066/m3_2019/XOR/lib/python3.7/site-packages/ipykernel/kernelbase.py\", line 357, in process_one\n",
      "    yield gen.maybe_future(dispatch(*args))  File \"/Users/d064066/m3_2019/XOR/lib/python3.7/site-packages/tornado/gen.py\", line 209, in wrapper\n",
      "    yielded = next(result)  File \"/Users/d064066/m3_2019/XOR/lib/python3.7/site-packages/ipykernel/kernelbase.py\", line 267, in dispatch_shell\n",
      "    yield gen.maybe_future(handler(stream, idents, msg))  File \"/Users/d064066/m3_2019/XOR/lib/python3.7/site-packages/tornado/gen.py\", line 209, in wrapper\n",
      "    yielded = next(result)  File \"/Users/d064066/m3_2019/XOR/lib/python3.7/site-packages/ipykernel/kernelbase.py\", line 534, in execute_request\n",
      "    user_expressions, allow_stdin,  File \"/Users/d064066/m3_2019/XOR/lib/python3.7/site-packages/tornado/gen.py\", line 209, in wrapper\n",
      "    yielded = next(result)  File \"/Users/d064066/m3_2019/XOR/lib/python3.7/site-packages/ipykernel/ipkernel.py\", line 294, in do_execute\n",
      "    res = shell.run_cell(code, store_history=store_history, silent=silent)  File \"/Users/d064066/m3_2019/XOR/lib/python3.7/site-packages/ipykernel/zmqshell.py\", line 536, in run_cell\n",
      "    return super(ZMQInteractiveShell, self).run_cell(*args, **kwargs)  File \"/Users/d064066/m3_2019/XOR/lib/python3.7/site-packages/IPython/core/interactiveshell.py\", line 2848, in run_cell\n",
      "    raw_cell, store_history, silent, shell_futures)  File \"/Users/d064066/m3_2019/XOR/lib/python3.7/site-packages/IPython/core/interactiveshell.py\", line 2874, in _run_cell\n",
      "    return runner(coro)  File \"/Users/d064066/m3_2019/XOR/lib/python3.7/site-packages/IPython/core/async_helpers.py\", line 67, in _pseudo_sync_runner\n",
      "    coro.send(None)  File \"/Users/d064066/m3_2019/XOR/lib/python3.7/site-packages/IPython/core/interactiveshell.py\", line 3049, in run_cell_async\n",
      "    interactivity=interactivity, compiler=compiler, result=result)  File \"/Users/d064066/m3_2019/XOR/lib/python3.7/site-packages/IPython/core/interactiveshell.py\", line 3214, in run_ast_nodes\n",
      "    if (yield from self.run_code(code, result)):  File \"/Users/d064066/m3_2019/XOR/lib/python3.7/site-packages/IPython/core/interactiveshell.py\", line 3296, in run_code\n",
      "    exec(code_obj, self.user_global_ns, self.user_ns)  File \"<ipython-input-10-2f852824350c>\", line 15, in <module>\n",
      "    tf.initialize_all_variables()  File \"/Users/d064066/m3_2019/XOR/lib/python3.7/site-packages/tensorflow/python/util/tf_should_use.py\", line 193, in wrapped\n",
      "    return _add_should_use_warning(fn(*args, **kwargs))\n",
      "==================================\n",
      "WARNING:tensorflow:From <ipython-input-10-2f852824350c>:20: all_variables (from tensorflow.python.ops.variables) is deprecated and will be removed after 2017-03-02.\n",
      "Instructions for updating:\n",
      "Please use tf.global_variables instead.\n",
      "load graph\n",
      "map variables\n",
      "WARNING:tensorflow:From /Users/d064066/m3_2019/XOR/lib/python3.7/site-packages/tensorflow/python/util/decorator_utils.py:145: GraphKeys.VARIABLES (from tensorflow.python.framework.ops) is deprecated and will be removed in a future version.\n",
      "Instructions for updating:\n",
      "Use `tf.GraphKeys.GLOBAL_VARIABLES` instead.\n",
      "load data\n",
      "WARNING:tensorflow:From /Users/d064066/m3_2019/XOR/lib/python3.7/site-packages/tensorflow/python/training/saver.py:1266: checkpoint_exists (from tensorflow.python.training.checkpoint_management) is deprecated and will be removed in a future version.\n",
      "Instructions for updating:\n",
      "Use standard file APIs to check for files with this prefix.\n",
      "INFO:tensorflow:Restoring parameters from checkpoint.data\n",
      "[100 101 102 103 104 105 106 107 108 109]\n",
      "DONE\n"
     ]
    }
   ],
   "source": [
    "###\n",
    "\n",
    "import tensorflow as tf\n",
    "import os\n",
    "import numpy as np\n",
    "from tensorflow.python.platform import gfile\n",
    "\n",
    "data = np.arange(10,dtype=np.int32)\n",
    "with tf.Session() as sess:\n",
    "  print(\"# build graph and run\")\n",
    "  input1= tf.placeholder(tf.int32, [10], name=\"input\")\n",
    "  output1= tf.add(input1, tf.constant(100,dtype=tf.int32), name=\"output\") #  data depends on the input data\n",
    "  saved_result= tf.Variable(data, name=\"saved_result\")\n",
    "  do_save=tf.assign(saved_result,output1)\n",
    "  tf.initialize_all_variables()\n",
    "  os.system(\"rm -rf /tmp/load\")\n",
    "  tf.train.write_graph(sess.graph_def, \"/tmp/load\", \"test.pb\", False) #proto\n",
    "  # now set the data:\n",
    "  result,_=sess.run([output1,do_save], {input1: data}) # calculate output1 and assign to 'saved_result'\n",
    "  saver = tf.train.Saver(tf.all_variables())\n",
    "  saver.save(sess,\"checkpoint.data\")\n",
    "\n",
    "\n",
    "\n",
    "with tf.Session() as persisted_sess:\n",
    "  print(\"load graph\")\n",
    "  with gfile.FastGFile(\"/tmp/load/test.pb\",'rb') as f:\n",
    "    graph_def = tf.GraphDef()\n",
    "    graph_def.ParseFromString(f.read())\n",
    "    persisted_sess.graph.as_default()\n",
    "    tf.import_graph_def(graph_def, name='')\n",
    "  print(\"map variables\")\n",
    "  persisted_result = persisted_sess.graph.get_tensor_by_name(\"saved_result:0\")\n",
    "  tf.add_to_collection(tf.GraphKeys.VARIABLES,persisted_result)\n",
    "  try:\n",
    "    saver = tf.train.Saver(tf.all_variables()) # 'Saver' misnomer! Better: Persister!\n",
    "  except:pass\n",
    "  print(\"load data\")\n",
    "  saver.restore(persisted_sess, \"checkpoint.data\")  # now OK\n",
    "  print(persisted_result.eval())\n",
    "  print(\"DONE\")\n"
   ]
  },
  {
   "cell_type": "code",
   "execution_count": 4,
   "metadata": {},
   "outputs": [],
   "source": [
    "# load graph\n",
    "\n",
    "with gfile.GFile(\"/tmp/load/test.pb\",'rb') as f:\n",
    "    graph_def = tf.GraphDef()\n",
    "    graph_def.ParseFromString(f.read())\n",
    "    tf.import_graph_def(graph_def, name='')"
   ]
  },
  {
   "cell_type": "code",
   "execution_count": 5,
   "metadata": {},
   "outputs": [
    {
     "name": "stdout",
     "output_type": "stream",
     "text": [
      "Tensor(\"input:0\", shape=(10,), dtype=int32)\n",
      "Tensor(\"Const:0\", shape=(), dtype=int32)\n",
      "name: \"output\"\n",
      "op: \"Add\"\n",
      "input: \"input\"\n",
      "input: \"Const\"\n",
      "attr {\n",
      "  key: \"T\"\n",
      "  value {\n",
      "    type: DT_INT32\n",
      "  }\n",
      "}\n",
      "\n"
     ]
    }
   ],
   "source": [
    "# run\n",
    "\n",
    "with tf.Session() as sess:\n",
    "    input_x = sess.graph.get_tensor_by_name(\"input:0\")\n",
    "    print (input_x)\n",
    "    Const = sess.graph.get_tensor_by_name(\"Const:0\")\n",
    "    print (Const)\n",
    "    output = sess.graph.get_operation_by_name(\"output\")\n",
    "    print (output)"
   ]
  },
  {
   "cell_type": "code",
   "execution_count": 8,
   "metadata": {},
   "outputs": [
    {
     "name": "stdout",
     "output_type": "stream",
     "text": [
      "data1: [0 1 2 3 4 5 6 7 8 9]\n",
      "result: None\n"
     ]
    }
   ],
   "source": [
    "with tf.Session() as sess:\n",
    "    data1 = np.arange(10) #+100\n",
    "    print (\"data1:\", data1)\n",
    "    result = sess.run(output, {input_x: data1})\n",
    "    print (\"result:\", result)"
   ]
  },
  {
   "cell_type": "code",
   "execution_count": null,
   "metadata": {},
   "outputs": [],
   "source": []
  }
 ],
 "metadata": {
  "kernelspec": {
   "display_name": "Python 3",
   "language": "python",
   "name": "python3"
  },
  "language_info": {
   "codemirror_mode": {
    "name": "ipython",
    "version": 3
   },
   "file_extension": ".py",
   "mimetype": "text/x-python",
   "name": "python",
   "nbconvert_exporter": "python",
   "pygments_lexer": "ipython3",
   "version": "3.7.3"
  }
 },
 "nbformat": 4,
 "nbformat_minor": 2
}
