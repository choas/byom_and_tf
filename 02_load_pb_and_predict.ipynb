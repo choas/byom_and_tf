{
 "cells": [
  {
   "cell_type": "code",
   "execution_count": 1,
   "metadata": {},
   "outputs": [],
   "source": [
    "### see https://www.dlology.com/blog/how-to-convert-trained-keras-model-to-tensorflow-and-make-prediction/\n",
    "\n",
    "import tensorflow as tf\n",
    "from tensorflow.python.platform import gfile\n",
    "\n",
    "f = gfile.GFile(\"./models/xor.pb\", 'rb')\n",
    "graph_def = tf.GraphDef()\n",
    "# Parses a serialized binary message into the current message.\n",
    "graph_def.ParseFromString(f.read())\n",
    "f.close()\n",
    "\n",
    "# Import a serialized TensorFlow `GraphDef` protocol buffer\n",
    "# and place into the current default `Graph`.\n",
    "tf.import_graph_def(graph_def)"
   ]
  },
  {
   "cell_type": "code",
   "execution_count": 2,
   "metadata": {},
   "outputs": [
    {
     "name": "stdout",
     "output_type": "stream",
     "text": [
      "Tensor(\"import/dense_1_input:0\", shape=(?, 2), dtype=float32)\n",
      "name: \"import/dense_2/Sigmoid\"\n",
      "op: \"Sigmoid\"\n",
      "input: \"import/dense_2/BiasAdd\"\n",
      "attr {\n",
      "  key: \"T\"\n",
      "  value {\n",
      "    type: DT_FLOAT\n",
      "  }\n",
      "}\n",
      "\n"
     ]
    }
   ],
   "source": [
    "with tf.Session() as sess:\n",
    "    input_x = sess.graph.get_tensor_by_name(\"import/dense_1_input:0\")\n",
    "    print (input_x)\n",
    "    #Const = sess.graph.get_tensor_by_name(\"Const:0\")\n",
    "    #print (Const)\n",
    "    output = sess.graph.get_operation_by_name(\"import/dense_2/Sigmoid\")\n",
    "    print (output)"
   ]
  },
  {
   "cell_type": "code",
   "execution_count": 3,
   "metadata": {},
   "outputs": [
    {
     "name": "stdout",
     "output_type": "stream",
     "text": [
      "[[0.9759246]]\n"
     ]
    }
   ],
   "source": [
    "#softmax_tensor = sess.graph.get_tensor_by_name('import/dense_2/Softmax:0')\n",
    "#predictions = sess.run(softmax_tensor, {'import/conv2d_1_input:0': x_test[:20]})\n",
    "\n",
    "with tf.Session() as sess:\n",
    "    input_x = sess.graph.get_tensor_by_name(\"import/dense_1_input:0\")\n",
    "    output = sess.graph.get_tensor_by_name('import/dense_2/Sigmoid:0')\n",
    "\n",
    "    preditions = sess.run(output, {input_x.name: [[1, 0]]})\n",
    "    print (preditions)\n"
   ]
  },
  {
   "cell_type": "code",
   "execution_count": null,
   "metadata": {},
   "outputs": [],
   "source": []
  }
 ],
 "metadata": {
  "kernelspec": {
   "display_name": "Python 3",
   "language": "python",
   "name": "python3"
  },
  "language_info": {
   "codemirror_mode": {
    "name": "ipython",
    "version": 3
   },
   "file_extension": ".py",
   "mimetype": "text/x-python",
   "name": "python",
   "nbconvert_exporter": "python",
   "pygments_lexer": "ipython3",
   "version": "3.7.3"
  }
 },
 "nbformat": 4,
 "nbformat_minor": 2
}
